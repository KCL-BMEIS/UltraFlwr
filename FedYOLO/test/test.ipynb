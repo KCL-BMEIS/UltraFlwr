{
 "cells": [
  {
   "cell_type": "code",
   "execution_count": 1,
   "metadata": {},
   "outputs": [],
   "source": [
    "from ultralytics import YOLO\n",
    "import pandas as pd\n",
    "\n",
    "import torch\n",
    "\n",
    "from FedYOLO.config import HOME, SPLITS_CONFIG, SERVER_CONFIG\n",
    "\n",
    "DATASET_NAME = SPLITS_CONFIG['dataset_name']\n",
    "NUM_ROUNDS = SERVER_CONFIG['rounds']\n",
    "NUM_ROUNDS = 1\n",
    "\n",
    "server_model_weights_path = f\"{HOME}/weights/model_weights___round_{NUM_ROUNDS}_{DATASET_NAME}_WOHO.pt\""
   ]
  },
  {
   "cell_type": "code",
   "execution_count": 2,
   "metadata": {},
   "outputs": [
    {
     "data": {
      "text/plain": [
       "<All keys matched successfully>"
      ]
     },
     "execution_count": 2,
     "metadata": {},
     "output_type": "execute_result"
    }
   ],
   "source": [
    "from flwr.common import parameters_to_ndarrays\n",
    "from flwr.common import ndarrays_to_parameters\n",
    "\n",
    "dummy_server_model_weights_path = f\"{HOME}/weights/model_weights___round_{NUM_ROUNDS}_{DATASET_NAME}_dummy.pt\"\n",
    "\n",
    "def get_parameters(net):\n",
    "    return [val.cpu().numpy() for _, val in net.model.state_dict().items()]\n",
    "\n",
    "def set_parameters(net, parameters):\n",
    "    # Convert parameters back to numpy arrays\n",
    "    ndarrays = parameters_to_ndarrays(parameters)\n",
    "    \n",
    "    # Get the current state dict\n",
    "    state_dict = net.model.state_dict()\n",
    "    \n",
    "    # Update the state dict with the new numpy arrays\n",
    "    for (name, param), ndarray in zip(state_dict.items(), ndarrays):\n",
    "        # Convert numpy array back to torch tensor\n",
    "        state_dict[name] = torch.tensor(ndarray)\n",
    "    \n",
    "    # Load the updated state dict\n",
    "    net.model.load_state_dict(state_dict)\n",
    "\n",
    "    # save the model\n",
    "    state_dict = net.model.state_dict()\n",
    "\n",
    "    # save the model\n",
    "    torch.save(state_dict, dummy_server_model_weights_path)\n",
    "\n",
    "\n",
    "    return state_dict\n",
    "\n",
    "model = YOLO()\n",
    "ndarrays = get_parameters(model)\n",
    "parameters = ndarrays_to_parameters(ndarrays)\n",
    "\n",
    "# Reverse the process from parameters to ndarrays to model\n",
    "state_dict = set_parameters(model, parameters)\n",
    "model.model.load_state_dict(state_dict)"
   ]
  },
  {
   "cell_type": "code",
   "execution_count": 3,
   "metadata": {},
   "outputs": [],
   "source": [
    "original_weights = torch.load(server_model_weights_path)\n",
    "dummy_weights = torch.load(dummy_server_model_weights_path)\n",
    "\n",
    "model = YOLO()\n",
    "model.model.load_state_dict(dummy_weights)\n",
    "# model.model.load_state_dict(original_weights)\n",
    "\n",
    "def load_selective_weights(model, weights):\n",
    "    skipped_layers = 0\n",
    "\n",
    "    for name, param in model.model.state_dict().items():\n",
    "        if name in weights and model.model.state_dict()[name].size() == weights[name].size():\n",
    "            model.model.state_dict()[name].copy_(weights[name])\n",
    "        else:\n",
    "            skipped_layers += 1\n",
    "\n",
    "    print(f\"Total layers skipped: {skipped_layers}\")\n",
    "\n",
    "    state_dict = model.model.state_dict()\n",
    "    torch.save(state_dict, dummy_server_model_weights_path)\n",
    "\n",
    "    return model"
   ]
  },
  {
   "cell_type": "code",
   "execution_count": 4,
   "metadata": {},
   "outputs": [],
   "source": [
    "# import torch\n",
    "\n",
    "# # Load weights\n",
    "# original_weights = torch.load(server_model_weights_path)\n",
    "# dummy_weights = torch.load(dummy_server_model_weights_path)\n",
    "\n",
    "# # Compare shapes individually\n",
    "# for key in original_weights.keys():\n",
    "#     if key in dummy_weights:\n",
    "#         original_shape = original_weights[key].shape\n",
    "#         dummy_shape = dummy_weights[key].shape\n",
    "#         if original_shape != dummy_shape:\n",
    "#             print('###################')\n",
    "#             print(f\"Layer: {key}, Original Shape: {original_shape}, Dummy Shape: {dummy_shape}\")\n",
    "#             print('###################')\n",
    "#         else:\n",
    "#             print(f\"Layer: {key}, Original Shape: {original_shape}, Dummy Shape: {dummy_shape}\")\n",
    "\n",
    "\n",
    "# print()\n",
    "# print()\n",
    "\n",
    "# # Comparing the overall number of layers\n",
    "# original_layers = len(original_weights.keys())\n",
    "# dummy_layers = len(dummy_weights.keys())\n",
    "# print(f\"Original Layers: {original_layers}, Dummy Layers: {dummy_layers}\")"
   ]
  },
  {
   "cell_type": "code",
   "execution_count": 5,
   "metadata": {},
   "outputs": [],
   "source": [
    "# server_model = YOLO(server_model_weights_path)\n",
    "# server_model_client0_metrics = server_model.val(data=f'{HOME}/datasets/{DATASET_NAME}/partitions/client_0/data.yaml', verbose=True)\n",
    "# server_model_client1_metrics = server_model.val(data=f'{HOME}/datasets/{DATASET_NAME}/partitions/client_1/data.yaml', verbose=True)\n",
    "# server_model_global_metrics = server_model.val(data=f'{HOME}/datasets/{DATASET_NAME}/data.yaml', verbose=True)\n",
    "\n",
    "# server_model_client0_table = pd.DataFrame({\n",
    "#     'Class': list(server_model_client0_metrics.names.values()),\n",
    "#     'mAP@0.5:0.95': server_model_client0_metrics.box.maps.tolist()\n",
    "# })\n",
    "\n",
    "# server_model_client1_table = pd.DataFrame({\n",
    "#     'Class': list(server_model_client1_metrics.names.values()),\n",
    "#     'mAP@0.5:0.95': server_model_client1_metrics.box.maps.tolist()\n",
    "# })\n",
    "\n",
    "# server_model_global_table = pd.DataFrame({\n",
    "#     'Class': list(server_model_global_metrics.names.values()),\n",
    "#     'mAP@0.5:0.95': server_model_global_metrics.box.maps.tolist()\n",
    "# })\n",
    "\n",
    "# server_model_combined_table = pd.merge(server_model_client0_table, server_model_client1_table, on='Class', how='inner')\n",
    "# print(server_model_combined_table)"
   ]
  },
  {
   "cell_type": "code",
   "execution_count": null,
   "metadata": {},
   "outputs": [
    {
     "ename": "RuntimeError",
     "evalue": "Error(s) in loading state_dict for DetectionModel:\n\tsize mismatch for model.23.cv3.0.0.1.conv.weight: copying a param with shape torch.Size([64, 64, 1, 1]) from checkpoint, the shape in current model is torch.Size([80, 64, 1, 1]).\n\tsize mismatch for model.23.cv3.0.0.1.bn.weight: copying a param with shape torch.Size([64]) from checkpoint, the shape in current model is torch.Size([80]).\n\tsize mismatch for model.23.cv3.0.0.1.bn.bias: copying a param with shape torch.Size([64]) from checkpoint, the shape in current model is torch.Size([80]).\n\tsize mismatch for model.23.cv3.0.0.1.bn.running_mean: copying a param with shape torch.Size([64]) from checkpoint, the shape in current model is torch.Size([80]).\n\tsize mismatch for model.23.cv3.0.0.1.bn.running_var: copying a param with shape torch.Size([64]) from checkpoint, the shape in current model is torch.Size([80]).\n\tsize mismatch for model.23.cv3.0.1.0.conv.weight: copying a param with shape torch.Size([64, 1, 3, 3]) from checkpoint, the shape in current model is torch.Size([80, 1, 3, 3]).\n\tsize mismatch for model.23.cv3.0.1.0.bn.weight: copying a param with shape torch.Size([64]) from checkpoint, the shape in current model is torch.Size([80]).\n\tsize mismatch for model.23.cv3.0.1.0.bn.bias: copying a param with shape torch.Size([64]) from checkpoint, the shape in current model is torch.Size([80]).\n\tsize mismatch for model.23.cv3.0.1.0.bn.running_mean: copying a param with shape torch.Size([64]) from checkpoint, the shape in current model is torch.Size([80]).\n\tsize mismatch for model.23.cv3.0.1.0.bn.running_var: copying a param with shape torch.Size([64]) from checkpoint, the shape in current model is torch.Size([80]).\n\tsize mismatch for model.23.cv3.0.1.1.conv.weight: copying a param with shape torch.Size([64, 64, 1, 1]) from checkpoint, the shape in current model is torch.Size([80, 80, 1, 1]).\n\tsize mismatch for model.23.cv3.0.1.1.bn.weight: copying a param with shape torch.Size([64]) from checkpoint, the shape in current model is torch.Size([80]).\n\tsize mismatch for model.23.cv3.0.1.1.bn.bias: copying a param with shape torch.Size([64]) from checkpoint, the shape in current model is torch.Size([80]).\n\tsize mismatch for model.23.cv3.0.1.1.bn.running_mean: copying a param with shape torch.Size([64]) from checkpoint, the shape in current model is torch.Size([80]).\n\tsize mismatch for model.23.cv3.0.1.1.bn.running_var: copying a param with shape torch.Size([64]) from checkpoint, the shape in current model is torch.Size([80]).\n\tsize mismatch for model.23.cv3.0.2.weight: copying a param with shape torch.Size([8, 64, 1, 1]) from checkpoint, the shape in current model is torch.Size([80, 80, 1, 1]).\n\tsize mismatch for model.23.cv3.0.2.bias: copying a param with shape torch.Size([8]) from checkpoint, the shape in current model is torch.Size([80]).\n\tsize mismatch for model.23.cv3.1.0.1.conv.weight: copying a param with shape torch.Size([64, 128, 1, 1]) from checkpoint, the shape in current model is torch.Size([80, 128, 1, 1]).\n\tsize mismatch for model.23.cv3.1.0.1.bn.weight: copying a param with shape torch.Size([64]) from checkpoint, the shape in current model is torch.Size([80]).\n\tsize mismatch for model.23.cv3.1.0.1.bn.bias: copying a param with shape torch.Size([64]) from checkpoint, the shape in current model is torch.Size([80]).\n\tsize mismatch for model.23.cv3.1.0.1.bn.running_mean: copying a param with shape torch.Size([64]) from checkpoint, the shape in current model is torch.Size([80]).\n\tsize mismatch for model.23.cv3.1.0.1.bn.running_var: copying a param with shape torch.Size([64]) from checkpoint, the shape in current model is torch.Size([80]).\n\tsize mismatch for model.23.cv3.1.1.0.conv.weight: copying a param with shape torch.Size([64, 1, 3, 3]) from checkpoint, the shape in current model is torch.Size([80, 1, 3, 3]).\n\tsize mismatch for model.23.cv3.1.1.0.bn.weight: copying a param with shape torch.Size([64]) from checkpoint, the shape in current model is torch.Size([80]).\n\tsize mismatch for model.23.cv3.1.1.0.bn.bias: copying a param with shape torch.Size([64]) from checkpoint, the shape in current model is torch.Size([80]).\n\tsize mismatch for model.23.cv3.1.1.0.bn.running_mean: copying a param with shape torch.Size([64]) from checkpoint, the shape in current model is torch.Size([80]).\n\tsize mismatch for model.23.cv3.1.1.0.bn.running_var: copying a param with shape torch.Size([64]) from checkpoint, the shape in current model is torch.Size([80]).\n\tsize mismatch for model.23.cv3.1.1.1.conv.weight: copying a param with shape torch.Size([64, 64, 1, 1]) from checkpoint, the shape in current model is torch.Size([80, 80, 1, 1]).\n\tsize mismatch for model.23.cv3.1.1.1.bn.weight: copying a param with shape torch.Size([64]) from checkpoint, the shape in current model is torch.Size([80]).\n\tsize mismatch for model.23.cv3.1.1.1.bn.bias: copying a param with shape torch.Size([64]) from checkpoint, the shape in current model is torch.Size([80]).\n\tsize mismatch for model.23.cv3.1.1.1.bn.running_mean: copying a param with shape torch.Size([64]) from checkpoint, the shape in current model is torch.Size([80]).\n\tsize mismatch for model.23.cv3.1.1.1.bn.running_var: copying a param with shape torch.Size([64]) from checkpoint, the shape in current model is torch.Size([80]).\n\tsize mismatch for model.23.cv3.1.2.weight: copying a param with shape torch.Size([8, 64, 1, 1]) from checkpoint, the shape in current model is torch.Size([80, 80, 1, 1]).\n\tsize mismatch for model.23.cv3.1.2.bias: copying a param with shape torch.Size([8]) from checkpoint, the shape in current model is torch.Size([80]).\n\tsize mismatch for model.23.cv3.2.0.1.conv.weight: copying a param with shape torch.Size([64, 256, 1, 1]) from checkpoint, the shape in current model is torch.Size([80, 256, 1, 1]).\n\tsize mismatch for model.23.cv3.2.0.1.bn.weight: copying a param with shape torch.Size([64]) from checkpoint, the shape in current model is torch.Size([80]).\n\tsize mismatch for model.23.cv3.2.0.1.bn.bias: copying a param with shape torch.Size([64]) from checkpoint, the shape in current model is torch.Size([80]).\n\tsize mismatch for model.23.cv3.2.0.1.bn.running_mean: copying a param with shape torch.Size([64]) from checkpoint, the shape in current model is torch.Size([80]).\n\tsize mismatch for model.23.cv3.2.0.1.bn.running_var: copying a param with shape torch.Size([64]) from checkpoint, the shape in current model is torch.Size([80]).\n\tsize mismatch for model.23.cv3.2.1.0.conv.weight: copying a param with shape torch.Size([64, 1, 3, 3]) from checkpoint, the shape in current model is torch.Size([80, 1, 3, 3]).\n\tsize mismatch for model.23.cv3.2.1.0.bn.weight: copying a param with shape torch.Size([64]) from checkpoint, the shape in current model is torch.Size([80]).\n\tsize mismatch for model.23.cv3.2.1.0.bn.bias: copying a param with shape torch.Size([64]) from checkpoint, the shape in current model is torch.Size([80]).\n\tsize mismatch for model.23.cv3.2.1.0.bn.running_mean: copying a param with shape torch.Size([64]) from checkpoint, the shape in current model is torch.Size([80]).\n\tsize mismatch for model.23.cv3.2.1.0.bn.running_var: copying a param with shape torch.Size([64]) from checkpoint, the shape in current model is torch.Size([80]).\n\tsize mismatch for model.23.cv3.2.1.1.conv.weight: copying a param with shape torch.Size([64, 64, 1, 1]) from checkpoint, the shape in current model is torch.Size([80, 80, 1, 1]).\n\tsize mismatch for model.23.cv3.2.1.1.bn.weight: copying a param with shape torch.Size([64]) from checkpoint, the shape in current model is torch.Size([80]).\n\tsize mismatch for model.23.cv3.2.1.1.bn.bias: copying a param with shape torch.Size([64]) from checkpoint, the shape in current model is torch.Size([80]).\n\tsize mismatch for model.23.cv3.2.1.1.bn.running_mean: copying a param with shape torch.Size([64]) from checkpoint, the shape in current model is torch.Size([80]).\n\tsize mismatch for model.23.cv3.2.1.1.bn.running_var: copying a param with shape torch.Size([64]) from checkpoint, the shape in current model is torch.Size([80]).\n\tsize mismatch for model.23.cv3.2.2.weight: copying a param with shape torch.Size([8, 64, 1, 1]) from checkpoint, the shape in current model is torch.Size([80, 80, 1, 1]).\n\tsize mismatch for model.23.cv3.2.2.bias: copying a param with shape torch.Size([8]) from checkpoint, the shape in current model is torch.Size([80]).",
     "output_type": "error",
     "traceback": [
      "\u001b[0;31m---------------------------------------------------------------------------\u001b[0m",
      "\u001b[0;31mRuntimeError\u001b[0m                              Traceback (most recent call last)",
      "Cell \u001b[0;32mIn[6], line 60\u001b[0m\n\u001b[1;32m     56\u001b[0m     \u001b[38;5;28;01mdel\u001b[39;00m client_global_model\n\u001b[1;32m     58\u001b[0m     \u001b[38;5;28;01mreturn\u001b[39;00m combined_table\n\u001b[0;32m---> 60\u001b[0m client_0_metrics_table \u001b[38;5;241m=\u001b[39m \u001b[43mget_client_metrics\u001b[49m\u001b[43m(\u001b[49m\u001b[38;5;241;43m0\u001b[39;49m\u001b[43m,\u001b[49m\u001b[43m \u001b[49m\u001b[43mDATASET_NAME\u001b[49m\u001b[43m,\u001b[49m\u001b[43m \u001b[49m\u001b[43mHOME\u001b[49m\u001b[43m)\u001b[49m\n\u001b[1;32m     61\u001b[0m client_1_metrics_table \u001b[38;5;241m=\u001b[39m get_client_metrics(\u001b[38;5;241m1\u001b[39m, DATASET_NAME, HOME)\n\u001b[1;32m     62\u001b[0m combined_table \u001b[38;5;241m=\u001b[39m pd\u001b[38;5;241m.\u001b[39mmerge(client_0_metrics_table, client_1_metrics_table, on\u001b[38;5;241m=\u001b[39m\u001b[38;5;124m'\u001b[39m\u001b[38;5;124mClass\u001b[39m\u001b[38;5;124m'\u001b[39m, how\u001b[38;5;241m=\u001b[39m\u001b[38;5;124m'\u001b[39m\u001b[38;5;124minner\u001b[39m\u001b[38;5;124m'\u001b[39m)\n",
      "Cell \u001b[0;32mIn[6], line 27\u001b[0m, in \u001b[0;36mget_client_metrics\u001b[0;34m(client_number, dataset_name, home_path)\u001b[0m\n\u001b[1;32m     24\u001b[0m state_dict \u001b[38;5;241m=\u001b[39m torch\u001b[38;5;241m.\u001b[39mload(weights)[\u001b[38;5;124m'\u001b[39m\u001b[38;5;124mmodel\u001b[39m\u001b[38;5;124m'\u001b[39m]\u001b[38;5;241m.\u001b[39mstate_dict()\n\u001b[1;32m     25\u001b[0m \u001b[38;5;66;03m# new_state_dict = {k.replace('model.', 'model.model.'): v for k, v in state_dict.items()}\u001b[39;00m\n\u001b[1;32m     26\u001b[0m \u001b[38;5;66;03m# client_model.load_state_dict(torch.load(weights)['model'].state_dict())\u001b[39;00m\n\u001b[0;32m---> 27\u001b[0m \u001b[43mclient_model\u001b[49m\u001b[38;5;241;43m.\u001b[39;49m\u001b[43mmodel\u001b[49m\u001b[38;5;241;43m.\u001b[39;49m\u001b[43mload_state_dict\u001b[49m\u001b[43m(\u001b[49m\u001b[43mstate_dict\u001b[49m\u001b[43m)\u001b[49m\n\u001b[1;32m     28\u001b[0m \u001b[38;5;66;03m# client_model.model.load_state_dict(torch.load(weights), strict=False)\u001b[39;00m\n\u001b[1;32m     29\u001b[0m client_metrics \u001b[38;5;241m=\u001b[39m client_model\u001b[38;5;241m.\u001b[39mval(data\u001b[38;5;241m=\u001b[39m\u001b[38;5;124mf\u001b[39m\u001b[38;5;124m'\u001b[39m\u001b[38;5;132;01m{\u001b[39;00mhome_path\u001b[38;5;132;01m}\u001b[39;00m\u001b[38;5;124m/datasets/\u001b[39m\u001b[38;5;132;01m{\u001b[39;00mdataset_name\u001b[38;5;132;01m}\u001b[39;00m\u001b[38;5;124m/partitions/client_\u001b[39m\u001b[38;5;132;01m{\u001b[39;00mclient_number\u001b[38;5;132;01m}\u001b[39;00m\u001b[38;5;124m/data.yaml\u001b[39m\u001b[38;5;124m'\u001b[39m, verbose\u001b[38;5;241m=\u001b[39m\u001b[38;5;28;01mTrue\u001b[39;00m)\n",
      "File \u001b[0;32m~/backup/soumya/env/fedlytics/lib/python3.12/site-packages/torch/nn/modules/module.py:2584\u001b[0m, in \u001b[0;36mModule.load_state_dict\u001b[0;34m(self, state_dict, strict, assign)\u001b[0m\n\u001b[1;32m   2576\u001b[0m         error_msgs\u001b[38;5;241m.\u001b[39minsert(\n\u001b[1;32m   2577\u001b[0m             \u001b[38;5;241m0\u001b[39m,\n\u001b[1;32m   2578\u001b[0m             \u001b[38;5;124m\"\u001b[39m\u001b[38;5;124mMissing key(s) in state_dict: \u001b[39m\u001b[38;5;132;01m{}\u001b[39;00m\u001b[38;5;124m. \u001b[39m\u001b[38;5;124m\"\u001b[39m\u001b[38;5;241m.\u001b[39mformat(\n\u001b[1;32m   2579\u001b[0m                 \u001b[38;5;124m\"\u001b[39m\u001b[38;5;124m, \u001b[39m\u001b[38;5;124m\"\u001b[39m\u001b[38;5;241m.\u001b[39mjoin(\u001b[38;5;124mf\u001b[39m\u001b[38;5;124m'\u001b[39m\u001b[38;5;124m\"\u001b[39m\u001b[38;5;132;01m{\u001b[39;00mk\u001b[38;5;132;01m}\u001b[39;00m\u001b[38;5;124m\"\u001b[39m\u001b[38;5;124m'\u001b[39m \u001b[38;5;28;01mfor\u001b[39;00m k \u001b[38;5;129;01min\u001b[39;00m missing_keys)\n\u001b[1;32m   2580\u001b[0m             ),\n\u001b[1;32m   2581\u001b[0m         )\n\u001b[1;32m   2583\u001b[0m \u001b[38;5;28;01mif\u001b[39;00m \u001b[38;5;28mlen\u001b[39m(error_msgs) \u001b[38;5;241m>\u001b[39m \u001b[38;5;241m0\u001b[39m:\n\u001b[0;32m-> 2584\u001b[0m     \u001b[38;5;28;01mraise\u001b[39;00m \u001b[38;5;167;01mRuntimeError\u001b[39;00m(\n\u001b[1;32m   2585\u001b[0m         \u001b[38;5;124m\"\u001b[39m\u001b[38;5;124mError(s) in loading state_dict for \u001b[39m\u001b[38;5;132;01m{}\u001b[39;00m\u001b[38;5;124m:\u001b[39m\u001b[38;5;130;01m\\n\u001b[39;00m\u001b[38;5;130;01m\\t\u001b[39;00m\u001b[38;5;132;01m{}\u001b[39;00m\u001b[38;5;124m\"\u001b[39m\u001b[38;5;241m.\u001b[39mformat(\n\u001b[1;32m   2586\u001b[0m             \u001b[38;5;28mself\u001b[39m\u001b[38;5;241m.\u001b[39m\u001b[38;5;18m__class__\u001b[39m\u001b[38;5;241m.\u001b[39m\u001b[38;5;18m__name__\u001b[39m, \u001b[38;5;124m\"\u001b[39m\u001b[38;5;130;01m\\n\u001b[39;00m\u001b[38;5;130;01m\\t\u001b[39;00m\u001b[38;5;124m\"\u001b[39m\u001b[38;5;241m.\u001b[39mjoin(error_msgs)\n\u001b[1;32m   2587\u001b[0m         )\n\u001b[1;32m   2588\u001b[0m     )\n\u001b[1;32m   2589\u001b[0m \u001b[38;5;28;01mreturn\u001b[39;00m _IncompatibleKeys(missing_keys, unexpected_keys)\n",
      "\u001b[0;31mRuntimeError\u001b[0m: Error(s) in loading state_dict for DetectionModel:\n\tsize mismatch for model.23.cv3.0.0.1.conv.weight: copying a param with shape torch.Size([64, 64, 1, 1]) from checkpoint, the shape in current model is torch.Size([80, 64, 1, 1]).\n\tsize mismatch for model.23.cv3.0.0.1.bn.weight: copying a param with shape torch.Size([64]) from checkpoint, the shape in current model is torch.Size([80]).\n\tsize mismatch for model.23.cv3.0.0.1.bn.bias: copying a param with shape torch.Size([64]) from checkpoint, the shape in current model is torch.Size([80]).\n\tsize mismatch for model.23.cv3.0.0.1.bn.running_mean: copying a param with shape torch.Size([64]) from checkpoint, the shape in current model is torch.Size([80]).\n\tsize mismatch for model.23.cv3.0.0.1.bn.running_var: copying a param with shape torch.Size([64]) from checkpoint, the shape in current model is torch.Size([80]).\n\tsize mismatch for model.23.cv3.0.1.0.conv.weight: copying a param with shape torch.Size([64, 1, 3, 3]) from checkpoint, the shape in current model is torch.Size([80, 1, 3, 3]).\n\tsize mismatch for model.23.cv3.0.1.0.bn.weight: copying a param with shape torch.Size([64]) from checkpoint, the shape in current model is torch.Size([80]).\n\tsize mismatch for model.23.cv3.0.1.0.bn.bias: copying a param with shape torch.Size([64]) from checkpoint, the shape in current model is torch.Size([80]).\n\tsize mismatch for model.23.cv3.0.1.0.bn.running_mean: copying a param with shape torch.Size([64]) from checkpoint, the shape in current model is torch.Size([80]).\n\tsize mismatch for model.23.cv3.0.1.0.bn.running_var: copying a param with shape torch.Size([64]) from checkpoint, the shape in current model is torch.Size([80]).\n\tsize mismatch for model.23.cv3.0.1.1.conv.weight: copying a param with shape torch.Size([64, 64, 1, 1]) from checkpoint, the shape in current model is torch.Size([80, 80, 1, 1]).\n\tsize mismatch for model.23.cv3.0.1.1.bn.weight: copying a param with shape torch.Size([64]) from checkpoint, the shape in current model is torch.Size([80]).\n\tsize mismatch for model.23.cv3.0.1.1.bn.bias: copying a param with shape torch.Size([64]) from checkpoint, the shape in current model is torch.Size([80]).\n\tsize mismatch for model.23.cv3.0.1.1.bn.running_mean: copying a param with shape torch.Size([64]) from checkpoint, the shape in current model is torch.Size([80]).\n\tsize mismatch for model.23.cv3.0.1.1.bn.running_var: copying a param with shape torch.Size([64]) from checkpoint, the shape in current model is torch.Size([80]).\n\tsize mismatch for model.23.cv3.0.2.weight: copying a param with shape torch.Size([8, 64, 1, 1]) from checkpoint, the shape in current model is torch.Size([80, 80, 1, 1]).\n\tsize mismatch for model.23.cv3.0.2.bias: copying a param with shape torch.Size([8]) from checkpoint, the shape in current model is torch.Size([80]).\n\tsize mismatch for model.23.cv3.1.0.1.conv.weight: copying a param with shape torch.Size([64, 128, 1, 1]) from checkpoint, the shape in current model is torch.Size([80, 128, 1, 1]).\n\tsize mismatch for model.23.cv3.1.0.1.bn.weight: copying a param with shape torch.Size([64]) from checkpoint, the shape in current model is torch.Size([80]).\n\tsize mismatch for model.23.cv3.1.0.1.bn.bias: copying a param with shape torch.Size([64]) from checkpoint, the shape in current model is torch.Size([80]).\n\tsize mismatch for model.23.cv3.1.0.1.bn.running_mean: copying a param with shape torch.Size([64]) from checkpoint, the shape in current model is torch.Size([80]).\n\tsize mismatch for model.23.cv3.1.0.1.bn.running_var: copying a param with shape torch.Size([64]) from checkpoint, the shape in current model is torch.Size([80]).\n\tsize mismatch for model.23.cv3.1.1.0.conv.weight: copying a param with shape torch.Size([64, 1, 3, 3]) from checkpoint, the shape in current model is torch.Size([80, 1, 3, 3]).\n\tsize mismatch for model.23.cv3.1.1.0.bn.weight: copying a param with shape torch.Size([64]) from checkpoint, the shape in current model is torch.Size([80]).\n\tsize mismatch for model.23.cv3.1.1.0.bn.bias: copying a param with shape torch.Size([64]) from checkpoint, the shape in current model is torch.Size([80]).\n\tsize mismatch for model.23.cv3.1.1.0.bn.running_mean: copying a param with shape torch.Size([64]) from checkpoint, the shape in current model is torch.Size([80]).\n\tsize mismatch for model.23.cv3.1.1.0.bn.running_var: copying a param with shape torch.Size([64]) from checkpoint, the shape in current model is torch.Size([80]).\n\tsize mismatch for model.23.cv3.1.1.1.conv.weight: copying a param with shape torch.Size([64, 64, 1, 1]) from checkpoint, the shape in current model is torch.Size([80, 80, 1, 1]).\n\tsize mismatch for model.23.cv3.1.1.1.bn.weight: copying a param with shape torch.Size([64]) from checkpoint, the shape in current model is torch.Size([80]).\n\tsize mismatch for model.23.cv3.1.1.1.bn.bias: copying a param with shape torch.Size([64]) from checkpoint, the shape in current model is torch.Size([80]).\n\tsize mismatch for model.23.cv3.1.1.1.bn.running_mean: copying a param with shape torch.Size([64]) from checkpoint, the shape in current model is torch.Size([80]).\n\tsize mismatch for model.23.cv3.1.1.1.bn.running_var: copying a param with shape torch.Size([64]) from checkpoint, the shape in current model is torch.Size([80]).\n\tsize mismatch for model.23.cv3.1.2.weight: copying a param with shape torch.Size([8, 64, 1, 1]) from checkpoint, the shape in current model is torch.Size([80, 80, 1, 1]).\n\tsize mismatch for model.23.cv3.1.2.bias: copying a param with shape torch.Size([8]) from checkpoint, the shape in current model is torch.Size([80]).\n\tsize mismatch for model.23.cv3.2.0.1.conv.weight: copying a param with shape torch.Size([64, 256, 1, 1]) from checkpoint, the shape in current model is torch.Size([80, 256, 1, 1]).\n\tsize mismatch for model.23.cv3.2.0.1.bn.weight: copying a param with shape torch.Size([64]) from checkpoint, the shape in current model is torch.Size([80]).\n\tsize mismatch for model.23.cv3.2.0.1.bn.bias: copying a param with shape torch.Size([64]) from checkpoint, the shape in current model is torch.Size([80]).\n\tsize mismatch for model.23.cv3.2.0.1.bn.running_mean: copying a param with shape torch.Size([64]) from checkpoint, the shape in current model is torch.Size([80]).\n\tsize mismatch for model.23.cv3.2.0.1.bn.running_var: copying a param with shape torch.Size([64]) from checkpoint, the shape in current model is torch.Size([80]).\n\tsize mismatch for model.23.cv3.2.1.0.conv.weight: copying a param with shape torch.Size([64, 1, 3, 3]) from checkpoint, the shape in current model is torch.Size([80, 1, 3, 3]).\n\tsize mismatch for model.23.cv3.2.1.0.bn.weight: copying a param with shape torch.Size([64]) from checkpoint, the shape in current model is torch.Size([80]).\n\tsize mismatch for model.23.cv3.2.1.0.bn.bias: copying a param with shape torch.Size([64]) from checkpoint, the shape in current model is torch.Size([80]).\n\tsize mismatch for model.23.cv3.2.1.0.bn.running_mean: copying a param with shape torch.Size([64]) from checkpoint, the shape in current model is torch.Size([80]).\n\tsize mismatch for model.23.cv3.2.1.0.bn.running_var: copying a param with shape torch.Size([64]) from checkpoint, the shape in current model is torch.Size([80]).\n\tsize mismatch for model.23.cv3.2.1.1.conv.weight: copying a param with shape torch.Size([64, 64, 1, 1]) from checkpoint, the shape in current model is torch.Size([80, 80, 1, 1]).\n\tsize mismatch for model.23.cv3.2.1.1.bn.weight: copying a param with shape torch.Size([64]) from checkpoint, the shape in current model is torch.Size([80]).\n\tsize mismatch for model.23.cv3.2.1.1.bn.bias: copying a param with shape torch.Size([64]) from checkpoint, the shape in current model is torch.Size([80]).\n\tsize mismatch for model.23.cv3.2.1.1.bn.running_mean: copying a param with shape torch.Size([64]) from checkpoint, the shape in current model is torch.Size([80]).\n\tsize mismatch for model.23.cv3.2.1.1.bn.running_var: copying a param with shape torch.Size([64]) from checkpoint, the shape in current model is torch.Size([80]).\n\tsize mismatch for model.23.cv3.2.2.weight: copying a param with shape torch.Size([8, 64, 1, 1]) from checkpoint, the shape in current model is torch.Size([80, 80, 1, 1]).\n\tsize mismatch for model.23.cv3.2.2.bias: copying a param with shape torch.Size([8]) from checkpoint, the shape in current model is torch.Size([80])."
     ]
    }
   ],
   "source": [
    "from ultralytics import YOLO\n",
    "from extract_final_save_from_client import extract_results_path\n",
    "\n",
    "import pandas as pd\n",
    "\n",
    "from FedYOLO.config import HOME, SPLITS_CONFIG, SERVER_CONFIG\n",
    "\n",
    "DATASET_NAME = SPLITS_CONFIG['dataset_name']\n",
    "NUM_ROUNDS = SERVER_CONFIG['rounds']\n",
    "\n",
    "# #! HUGE DIFFERENCES BETWEEN SYSTEMS REGARDING FILES PATHS AND LOGGING. NEED TO IN-DEPTH TEST THIS.\n",
    "\n",
    "# #####################\n",
    "# # CLIENT EVALUATION #\n",
    "# #####################\n",
    "\n",
    "# def get_client_metrics(client_number, dataset_name, home_path):\n",
    "#     # Extract paths\n",
    "#     client_model_weights_path = extract_results_path(f\"{home_path}/logs/client_{client_number}_log_{dataset_name}.txt\")\n",
    "#     weights = f\"{home_path}/{client_model_weights_path}/weights/best.pt\"\n",
    "    \n",
    "#     # Load and validate local model\n",
    "#     client_model = YOLO()\n",
    "#     state_dict = torch.load(weights)['model'].state_dict()\n",
    "#     # new_state_dict = {k.replace('model.', 'model.model.'): v for k, v in state_dict.items()}\n",
    "#     # client_model.load_state_dict(torch.load(weights)['model'].state_dict())\n",
    "#     client_model.model.load_state_dict(state_dict)\n",
    "#     # client_model.model.load_state_dict(torch.load(weights), strict=False)\n",
    "#     client_metrics = client_model.val(data=f'{home_path}/datasets/{dataset_name}/partitions/client_{client_number}/data.yaml', verbose=True)\n",
    "    \n",
    "#     # Create local model metrics table\n",
    "#     client_table = pd.DataFrame({\n",
    "#         'Class': list(client_metrics.names.values()),\n",
    "#         'mAP@0.5:0.95': client_metrics.box.maps.tolist()\n",
    "#     })\n",
    "    \n",
    "#     # Extract global model weights\n",
    "#     client_global_model_weights_path = extract_results_path(f\"{home_path}/logs/client_{client_number}_log_{dataset_name}.txt\")\n",
    "#     global_weights = f\"{home_path}/{client_global_model_weights_path}/weights/best.pt\"\n",
    "    \n",
    "#     # Load and validate global model\n",
    "#     client_global_model = YOLO(global_weights)\n",
    "#     client_global_metrics = client_global_model.val(data=f'{home_path}/datasets/{dataset_name}/data.yaml', verbose=False)\n",
    "    \n",
    "#     # Create global model metrics table\n",
    "#     client_global_table = pd.DataFrame({\n",
    "#         'Class': list(client_global_metrics.names.values()),\n",
    "#         'mAP@0.5:0.95': client_global_metrics.box.maps.tolist()\n",
    "#     })\n",
    "    \n",
    "#     # Combine local and global model metrics\n",
    "#     combined_table = pd.merge(client_table, client_global_table, on='Class', how='inner')\n",
    "#     combined_table.columns = ['Class', 'mAP@0.5:0.95_local', 'mAP@0.5:0.95_global']\n",
    "\n",
    "#     del client_model\n",
    "#     del client_global_model\n",
    "    \n",
    "#     return combined_table\n",
    "\n",
    "# client_0_metrics_table = get_client_metrics(0, DATASET_NAME, HOME)\n",
    "# client_1_metrics_table = get_client_metrics(1, DATASET_NAME, HOME)\n",
    "# combined_table = pd.merge(client_0_metrics_table, client_1_metrics_table, on='Class', how='inner')\n",
    "# combined_table.columns = ['Class', 'mAP@0.5:0.95_local_0', 'mAP@0.5:0.95_global_0', 'mAP@0.5:0.95_local_1', 'mAP@0.5:0.95_global_1']\n",
    "# print()\n",
    "# print()\n",
    "# print('##############################')\n",
    "# print('# FINAL CONSOLIDATED METRICS #')\n",
    "# print('##############################')\n",
    "# print(combined_table.to_string(index=False))"
   ]
  },
  {
   "cell_type": "code",
   "execution_count": 17,
   "metadata": {},
   "outputs": [
    {
     "name": "stdout",
     "output_type": "stream",
     "text": [
      "runs/detect/train70\n"
     ]
    }
   ],
   "source": [
    "client_model_weights_path = extract_results_path(f\"{HOME}/logs/client_1_log_pills.txt\")\n",
    "print(client_model_weights_path)"
   ]
  },
  {
   "cell_type": "code",
   "execution_count": 18,
   "metadata": {},
   "outputs": [],
   "source": [
    "weights = f\"{HOME}/runs/detect/train70/weights/best.pt\"\n",
    "model = YOLO(weights)"
   ]
  },
  {
   "cell_type": "code",
   "execution_count": 25,
   "metadata": {},
   "outputs": [
    {
     "ename": "RuntimeError",
     "evalue": "Error(s) in loading state_dict for DetectionModel:\n\tsize mismatch for model.23.cv3.0.0.1.conv.weight: copying a param with shape torch.Size([64, 64, 1, 1]) from checkpoint, the shape in current model is torch.Size([80, 64, 1, 1]).\n\tsize mismatch for model.23.cv3.0.0.1.bn.weight: copying a param with shape torch.Size([64]) from checkpoint, the shape in current model is torch.Size([80]).\n\tsize mismatch for model.23.cv3.0.0.1.bn.bias: copying a param with shape torch.Size([64]) from checkpoint, the shape in current model is torch.Size([80]).\n\tsize mismatch for model.23.cv3.0.0.1.bn.running_mean: copying a param with shape torch.Size([64]) from checkpoint, the shape in current model is torch.Size([80]).\n\tsize mismatch for model.23.cv3.0.0.1.bn.running_var: copying a param with shape torch.Size([64]) from checkpoint, the shape in current model is torch.Size([80]).\n\tsize mismatch for model.23.cv3.0.1.0.conv.weight: copying a param with shape torch.Size([64, 1, 3, 3]) from checkpoint, the shape in current model is torch.Size([80, 1, 3, 3]).\n\tsize mismatch for model.23.cv3.0.1.0.bn.weight: copying a param with shape torch.Size([64]) from checkpoint, the shape in current model is torch.Size([80]).\n\tsize mismatch for model.23.cv3.0.1.0.bn.bias: copying a param with shape torch.Size([64]) from checkpoint, the shape in current model is torch.Size([80]).\n\tsize mismatch for model.23.cv3.0.1.0.bn.running_mean: copying a param with shape torch.Size([64]) from checkpoint, the shape in current model is torch.Size([80]).\n\tsize mismatch for model.23.cv3.0.1.0.bn.running_var: copying a param with shape torch.Size([64]) from checkpoint, the shape in current model is torch.Size([80]).\n\tsize mismatch for model.23.cv3.0.1.1.conv.weight: copying a param with shape torch.Size([64, 64, 1, 1]) from checkpoint, the shape in current model is torch.Size([80, 80, 1, 1]).\n\tsize mismatch for model.23.cv3.0.1.1.bn.weight: copying a param with shape torch.Size([64]) from checkpoint, the shape in current model is torch.Size([80]).\n\tsize mismatch for model.23.cv3.0.1.1.bn.bias: copying a param with shape torch.Size([64]) from checkpoint, the shape in current model is torch.Size([80]).\n\tsize mismatch for model.23.cv3.0.1.1.bn.running_mean: copying a param with shape torch.Size([64]) from checkpoint, the shape in current model is torch.Size([80]).\n\tsize mismatch for model.23.cv3.0.1.1.bn.running_var: copying a param with shape torch.Size([64]) from checkpoint, the shape in current model is torch.Size([80]).\n\tsize mismatch for model.23.cv3.0.2.weight: copying a param with shape torch.Size([8, 64, 1, 1]) from checkpoint, the shape in current model is torch.Size([80, 80, 1, 1]).\n\tsize mismatch for model.23.cv3.0.2.bias: copying a param with shape torch.Size([8]) from checkpoint, the shape in current model is torch.Size([80]).\n\tsize mismatch for model.23.cv3.1.0.1.conv.weight: copying a param with shape torch.Size([64, 128, 1, 1]) from checkpoint, the shape in current model is torch.Size([80, 128, 1, 1]).\n\tsize mismatch for model.23.cv3.1.0.1.bn.weight: copying a param with shape torch.Size([64]) from checkpoint, the shape in current model is torch.Size([80]).\n\tsize mismatch for model.23.cv3.1.0.1.bn.bias: copying a param with shape torch.Size([64]) from checkpoint, the shape in current model is torch.Size([80]).\n\tsize mismatch for model.23.cv3.1.0.1.bn.running_mean: copying a param with shape torch.Size([64]) from checkpoint, the shape in current model is torch.Size([80]).\n\tsize mismatch for model.23.cv3.1.0.1.bn.running_var: copying a param with shape torch.Size([64]) from checkpoint, the shape in current model is torch.Size([80]).\n\tsize mismatch for model.23.cv3.1.1.0.conv.weight: copying a param with shape torch.Size([64, 1, 3, 3]) from checkpoint, the shape in current model is torch.Size([80, 1, 3, 3]).\n\tsize mismatch for model.23.cv3.1.1.0.bn.weight: copying a param with shape torch.Size([64]) from checkpoint, the shape in current model is torch.Size([80]).\n\tsize mismatch for model.23.cv3.1.1.0.bn.bias: copying a param with shape torch.Size([64]) from checkpoint, the shape in current model is torch.Size([80]).\n\tsize mismatch for model.23.cv3.1.1.0.bn.running_mean: copying a param with shape torch.Size([64]) from checkpoint, the shape in current model is torch.Size([80]).\n\tsize mismatch for model.23.cv3.1.1.0.bn.running_var: copying a param with shape torch.Size([64]) from checkpoint, the shape in current model is torch.Size([80]).\n\tsize mismatch for model.23.cv3.1.1.1.conv.weight: copying a param with shape torch.Size([64, 64, 1, 1]) from checkpoint, the shape in current model is torch.Size([80, 80, 1, 1]).\n\tsize mismatch for model.23.cv3.1.1.1.bn.weight: copying a param with shape torch.Size([64]) from checkpoint, the shape in current model is torch.Size([80]).\n\tsize mismatch for model.23.cv3.1.1.1.bn.bias: copying a param with shape torch.Size([64]) from checkpoint, the shape in current model is torch.Size([80]).\n\tsize mismatch for model.23.cv3.1.1.1.bn.running_mean: copying a param with shape torch.Size([64]) from checkpoint, the shape in current model is torch.Size([80]).\n\tsize mismatch for model.23.cv3.1.1.1.bn.running_var: copying a param with shape torch.Size([64]) from checkpoint, the shape in current model is torch.Size([80]).\n\tsize mismatch for model.23.cv3.1.2.weight: copying a param with shape torch.Size([8, 64, 1, 1]) from checkpoint, the shape in current model is torch.Size([80, 80, 1, 1]).\n\tsize mismatch for model.23.cv3.1.2.bias: copying a param with shape torch.Size([8]) from checkpoint, the shape in current model is torch.Size([80]).\n\tsize mismatch for model.23.cv3.2.0.1.conv.weight: copying a param with shape torch.Size([64, 256, 1, 1]) from checkpoint, the shape in current model is torch.Size([80, 256, 1, 1]).\n\tsize mismatch for model.23.cv3.2.0.1.bn.weight: copying a param with shape torch.Size([64]) from checkpoint, the shape in current model is torch.Size([80]).\n\tsize mismatch for model.23.cv3.2.0.1.bn.bias: copying a param with shape torch.Size([64]) from checkpoint, the shape in current model is torch.Size([80]).\n\tsize mismatch for model.23.cv3.2.0.1.bn.running_mean: copying a param with shape torch.Size([64]) from checkpoint, the shape in current model is torch.Size([80]).\n\tsize mismatch for model.23.cv3.2.0.1.bn.running_var: copying a param with shape torch.Size([64]) from checkpoint, the shape in current model is torch.Size([80]).\n\tsize mismatch for model.23.cv3.2.1.0.conv.weight: copying a param with shape torch.Size([64, 1, 3, 3]) from checkpoint, the shape in current model is torch.Size([80, 1, 3, 3]).\n\tsize mismatch for model.23.cv3.2.1.0.bn.weight: copying a param with shape torch.Size([64]) from checkpoint, the shape in current model is torch.Size([80]).\n\tsize mismatch for model.23.cv3.2.1.0.bn.bias: copying a param with shape torch.Size([64]) from checkpoint, the shape in current model is torch.Size([80]).\n\tsize mismatch for model.23.cv3.2.1.0.bn.running_mean: copying a param with shape torch.Size([64]) from checkpoint, the shape in current model is torch.Size([80]).\n\tsize mismatch for model.23.cv3.2.1.0.bn.running_var: copying a param with shape torch.Size([64]) from checkpoint, the shape in current model is torch.Size([80]).\n\tsize mismatch for model.23.cv3.2.1.1.conv.weight: copying a param with shape torch.Size([64, 64, 1, 1]) from checkpoint, the shape in current model is torch.Size([80, 80, 1, 1]).\n\tsize mismatch for model.23.cv3.2.1.1.bn.weight: copying a param with shape torch.Size([64]) from checkpoint, the shape in current model is torch.Size([80]).\n\tsize mismatch for model.23.cv3.2.1.1.bn.bias: copying a param with shape torch.Size([64]) from checkpoint, the shape in current model is torch.Size([80]).\n\tsize mismatch for model.23.cv3.2.1.1.bn.running_mean: copying a param with shape torch.Size([64]) from checkpoint, the shape in current model is torch.Size([80]).\n\tsize mismatch for model.23.cv3.2.1.1.bn.running_var: copying a param with shape torch.Size([64]) from checkpoint, the shape in current model is torch.Size([80]).\n\tsize mismatch for model.23.cv3.2.2.weight: copying a param with shape torch.Size([8, 64, 1, 1]) from checkpoint, the shape in current model is torch.Size([80, 80, 1, 1]).\n\tsize mismatch for model.23.cv3.2.2.bias: copying a param with shape torch.Size([8]) from checkpoint, the shape in current model is torch.Size([80]).",
     "output_type": "error",
     "traceback": [
      "\u001b[0;31m---------------------------------------------------------------------------\u001b[0m",
      "\u001b[0;31mRuntimeError\u001b[0m                              Traceback (most recent call last)",
      "Cell \u001b[0;32mIn[25], line 3\u001b[0m\n\u001b[1;32m      1\u001b[0m model \u001b[38;5;241m=\u001b[39m YOLO(\u001b[38;5;124m'\u001b[39m\u001b[38;5;124myolo11n.yaml\u001b[39m\u001b[38;5;124m'\u001b[39m)\n\u001b[1;32m      2\u001b[0m model\u001b[38;5;241m.\u001b[39mnc \u001b[38;5;241m=\u001b[39m \u001b[38;5;241m8\u001b[39m \n\u001b[0;32m----> 3\u001b[0m \u001b[43mmodel\u001b[49m\u001b[38;5;241;43m.\u001b[39;49m\u001b[43mmodel\u001b[49m\u001b[38;5;241;43m.\u001b[39;49m\u001b[43mload_state_dict\u001b[49m\u001b[43m(\u001b[49m\u001b[43mtorch\u001b[49m\u001b[38;5;241;43m.\u001b[39;49m\u001b[43mload\u001b[49m\u001b[43m(\u001b[49m\u001b[43mweights\u001b[49m\u001b[43m)\u001b[49m\u001b[43m[\u001b[49m\u001b[38;5;124;43m'\u001b[39;49m\u001b[38;5;124;43mmodel\u001b[39;49m\u001b[38;5;124;43m'\u001b[39;49m\u001b[43m]\u001b[49m\u001b[38;5;241;43m.\u001b[39;49m\u001b[43mstate_dict\u001b[49m\u001b[43m(\u001b[49m\u001b[43m)\u001b[49m\u001b[43m,\u001b[49m\u001b[43m \u001b[49m\u001b[43mstrict\u001b[49m\u001b[38;5;241;43m=\u001b[39;49m\u001b[38;5;28;43;01mFalse\u001b[39;49;00m\u001b[43m)\u001b[49m\n",
      "File \u001b[0;32m~/backup/soumya/env/fedlytics/lib/python3.12/site-packages/torch/nn/modules/module.py:2584\u001b[0m, in \u001b[0;36mModule.load_state_dict\u001b[0;34m(self, state_dict, strict, assign)\u001b[0m\n\u001b[1;32m   2576\u001b[0m         error_msgs\u001b[38;5;241m.\u001b[39minsert(\n\u001b[1;32m   2577\u001b[0m             \u001b[38;5;241m0\u001b[39m,\n\u001b[1;32m   2578\u001b[0m             \u001b[38;5;124m\"\u001b[39m\u001b[38;5;124mMissing key(s) in state_dict: \u001b[39m\u001b[38;5;132;01m{}\u001b[39;00m\u001b[38;5;124m. \u001b[39m\u001b[38;5;124m\"\u001b[39m\u001b[38;5;241m.\u001b[39mformat(\n\u001b[1;32m   2579\u001b[0m                 \u001b[38;5;124m\"\u001b[39m\u001b[38;5;124m, \u001b[39m\u001b[38;5;124m\"\u001b[39m\u001b[38;5;241m.\u001b[39mjoin(\u001b[38;5;124mf\u001b[39m\u001b[38;5;124m'\u001b[39m\u001b[38;5;124m\"\u001b[39m\u001b[38;5;132;01m{\u001b[39;00mk\u001b[38;5;132;01m}\u001b[39;00m\u001b[38;5;124m\"\u001b[39m\u001b[38;5;124m'\u001b[39m \u001b[38;5;28;01mfor\u001b[39;00m k \u001b[38;5;129;01min\u001b[39;00m missing_keys)\n\u001b[1;32m   2580\u001b[0m             ),\n\u001b[1;32m   2581\u001b[0m         )\n\u001b[1;32m   2583\u001b[0m \u001b[38;5;28;01mif\u001b[39;00m \u001b[38;5;28mlen\u001b[39m(error_msgs) \u001b[38;5;241m>\u001b[39m \u001b[38;5;241m0\u001b[39m:\n\u001b[0;32m-> 2584\u001b[0m     \u001b[38;5;28;01mraise\u001b[39;00m \u001b[38;5;167;01mRuntimeError\u001b[39;00m(\n\u001b[1;32m   2585\u001b[0m         \u001b[38;5;124m\"\u001b[39m\u001b[38;5;124mError(s) in loading state_dict for \u001b[39m\u001b[38;5;132;01m{}\u001b[39;00m\u001b[38;5;124m:\u001b[39m\u001b[38;5;130;01m\\n\u001b[39;00m\u001b[38;5;130;01m\\t\u001b[39;00m\u001b[38;5;132;01m{}\u001b[39;00m\u001b[38;5;124m\"\u001b[39m\u001b[38;5;241m.\u001b[39mformat(\n\u001b[1;32m   2586\u001b[0m             \u001b[38;5;28mself\u001b[39m\u001b[38;5;241m.\u001b[39m\u001b[38;5;18m__class__\u001b[39m\u001b[38;5;241m.\u001b[39m\u001b[38;5;18m__name__\u001b[39m, \u001b[38;5;124m\"\u001b[39m\u001b[38;5;130;01m\\n\u001b[39;00m\u001b[38;5;130;01m\\t\u001b[39;00m\u001b[38;5;124m\"\u001b[39m\u001b[38;5;241m.\u001b[39mjoin(error_msgs)\n\u001b[1;32m   2587\u001b[0m         )\n\u001b[1;32m   2588\u001b[0m     )\n\u001b[1;32m   2589\u001b[0m \u001b[38;5;28;01mreturn\u001b[39;00m _IncompatibleKeys(missing_keys, unexpected_keys)\n",
      "\u001b[0;31mRuntimeError\u001b[0m: Error(s) in loading state_dict for DetectionModel:\n\tsize mismatch for model.23.cv3.0.0.1.conv.weight: copying a param with shape torch.Size([64, 64, 1, 1]) from checkpoint, the shape in current model is torch.Size([80, 64, 1, 1]).\n\tsize mismatch for model.23.cv3.0.0.1.bn.weight: copying a param with shape torch.Size([64]) from checkpoint, the shape in current model is torch.Size([80]).\n\tsize mismatch for model.23.cv3.0.0.1.bn.bias: copying a param with shape torch.Size([64]) from checkpoint, the shape in current model is torch.Size([80]).\n\tsize mismatch for model.23.cv3.0.0.1.bn.running_mean: copying a param with shape torch.Size([64]) from checkpoint, the shape in current model is torch.Size([80]).\n\tsize mismatch for model.23.cv3.0.0.1.bn.running_var: copying a param with shape torch.Size([64]) from checkpoint, the shape in current model is torch.Size([80]).\n\tsize mismatch for model.23.cv3.0.1.0.conv.weight: copying a param with shape torch.Size([64, 1, 3, 3]) from checkpoint, the shape in current model is torch.Size([80, 1, 3, 3]).\n\tsize mismatch for model.23.cv3.0.1.0.bn.weight: copying a param with shape torch.Size([64]) from checkpoint, the shape in current model is torch.Size([80]).\n\tsize mismatch for model.23.cv3.0.1.0.bn.bias: copying a param with shape torch.Size([64]) from checkpoint, the shape in current model is torch.Size([80]).\n\tsize mismatch for model.23.cv3.0.1.0.bn.running_mean: copying a param with shape torch.Size([64]) from checkpoint, the shape in current model is torch.Size([80]).\n\tsize mismatch for model.23.cv3.0.1.0.bn.running_var: copying a param with shape torch.Size([64]) from checkpoint, the shape in current model is torch.Size([80]).\n\tsize mismatch for model.23.cv3.0.1.1.conv.weight: copying a param with shape torch.Size([64, 64, 1, 1]) from checkpoint, the shape in current model is torch.Size([80, 80, 1, 1]).\n\tsize mismatch for model.23.cv3.0.1.1.bn.weight: copying a param with shape torch.Size([64]) from checkpoint, the shape in current model is torch.Size([80]).\n\tsize mismatch for model.23.cv3.0.1.1.bn.bias: copying a param with shape torch.Size([64]) from checkpoint, the shape in current model is torch.Size([80]).\n\tsize mismatch for model.23.cv3.0.1.1.bn.running_mean: copying a param with shape torch.Size([64]) from checkpoint, the shape in current model is torch.Size([80]).\n\tsize mismatch for model.23.cv3.0.1.1.bn.running_var: copying a param with shape torch.Size([64]) from checkpoint, the shape in current model is torch.Size([80]).\n\tsize mismatch for model.23.cv3.0.2.weight: copying a param with shape torch.Size([8, 64, 1, 1]) from checkpoint, the shape in current model is torch.Size([80, 80, 1, 1]).\n\tsize mismatch for model.23.cv3.0.2.bias: copying a param with shape torch.Size([8]) from checkpoint, the shape in current model is torch.Size([80]).\n\tsize mismatch for model.23.cv3.1.0.1.conv.weight: copying a param with shape torch.Size([64, 128, 1, 1]) from checkpoint, the shape in current model is torch.Size([80, 128, 1, 1]).\n\tsize mismatch for model.23.cv3.1.0.1.bn.weight: copying a param with shape torch.Size([64]) from checkpoint, the shape in current model is torch.Size([80]).\n\tsize mismatch for model.23.cv3.1.0.1.bn.bias: copying a param with shape torch.Size([64]) from checkpoint, the shape in current model is torch.Size([80]).\n\tsize mismatch for model.23.cv3.1.0.1.bn.running_mean: copying a param with shape torch.Size([64]) from checkpoint, the shape in current model is torch.Size([80]).\n\tsize mismatch for model.23.cv3.1.0.1.bn.running_var: copying a param with shape torch.Size([64]) from checkpoint, the shape in current model is torch.Size([80]).\n\tsize mismatch for model.23.cv3.1.1.0.conv.weight: copying a param with shape torch.Size([64, 1, 3, 3]) from checkpoint, the shape in current model is torch.Size([80, 1, 3, 3]).\n\tsize mismatch for model.23.cv3.1.1.0.bn.weight: copying a param with shape torch.Size([64]) from checkpoint, the shape in current model is torch.Size([80]).\n\tsize mismatch for model.23.cv3.1.1.0.bn.bias: copying a param with shape torch.Size([64]) from checkpoint, the shape in current model is torch.Size([80]).\n\tsize mismatch for model.23.cv3.1.1.0.bn.running_mean: copying a param with shape torch.Size([64]) from checkpoint, the shape in current model is torch.Size([80]).\n\tsize mismatch for model.23.cv3.1.1.0.bn.running_var: copying a param with shape torch.Size([64]) from checkpoint, the shape in current model is torch.Size([80]).\n\tsize mismatch for model.23.cv3.1.1.1.conv.weight: copying a param with shape torch.Size([64, 64, 1, 1]) from checkpoint, the shape in current model is torch.Size([80, 80, 1, 1]).\n\tsize mismatch for model.23.cv3.1.1.1.bn.weight: copying a param with shape torch.Size([64]) from checkpoint, the shape in current model is torch.Size([80]).\n\tsize mismatch for model.23.cv3.1.1.1.bn.bias: copying a param with shape torch.Size([64]) from checkpoint, the shape in current model is torch.Size([80]).\n\tsize mismatch for model.23.cv3.1.1.1.bn.running_mean: copying a param with shape torch.Size([64]) from checkpoint, the shape in current model is torch.Size([80]).\n\tsize mismatch for model.23.cv3.1.1.1.bn.running_var: copying a param with shape torch.Size([64]) from checkpoint, the shape in current model is torch.Size([80]).\n\tsize mismatch for model.23.cv3.1.2.weight: copying a param with shape torch.Size([8, 64, 1, 1]) from checkpoint, the shape in current model is torch.Size([80, 80, 1, 1]).\n\tsize mismatch for model.23.cv3.1.2.bias: copying a param with shape torch.Size([8]) from checkpoint, the shape in current model is torch.Size([80]).\n\tsize mismatch for model.23.cv3.2.0.1.conv.weight: copying a param with shape torch.Size([64, 256, 1, 1]) from checkpoint, the shape in current model is torch.Size([80, 256, 1, 1]).\n\tsize mismatch for model.23.cv3.2.0.1.bn.weight: copying a param with shape torch.Size([64]) from checkpoint, the shape in current model is torch.Size([80]).\n\tsize mismatch for model.23.cv3.2.0.1.bn.bias: copying a param with shape torch.Size([64]) from checkpoint, the shape in current model is torch.Size([80]).\n\tsize mismatch for model.23.cv3.2.0.1.bn.running_mean: copying a param with shape torch.Size([64]) from checkpoint, the shape in current model is torch.Size([80]).\n\tsize mismatch for model.23.cv3.2.0.1.bn.running_var: copying a param with shape torch.Size([64]) from checkpoint, the shape in current model is torch.Size([80]).\n\tsize mismatch for model.23.cv3.2.1.0.conv.weight: copying a param with shape torch.Size([64, 1, 3, 3]) from checkpoint, the shape in current model is torch.Size([80, 1, 3, 3]).\n\tsize mismatch for model.23.cv3.2.1.0.bn.weight: copying a param with shape torch.Size([64]) from checkpoint, the shape in current model is torch.Size([80]).\n\tsize mismatch for model.23.cv3.2.1.0.bn.bias: copying a param with shape torch.Size([64]) from checkpoint, the shape in current model is torch.Size([80]).\n\tsize mismatch for model.23.cv3.2.1.0.bn.running_mean: copying a param with shape torch.Size([64]) from checkpoint, the shape in current model is torch.Size([80]).\n\tsize mismatch for model.23.cv3.2.1.0.bn.running_var: copying a param with shape torch.Size([64]) from checkpoint, the shape in current model is torch.Size([80]).\n\tsize mismatch for model.23.cv3.2.1.1.conv.weight: copying a param with shape torch.Size([64, 64, 1, 1]) from checkpoint, the shape in current model is torch.Size([80, 80, 1, 1]).\n\tsize mismatch for model.23.cv3.2.1.1.bn.weight: copying a param with shape torch.Size([64]) from checkpoint, the shape in current model is torch.Size([80]).\n\tsize mismatch for model.23.cv3.2.1.1.bn.bias: copying a param with shape torch.Size([64]) from checkpoint, the shape in current model is torch.Size([80]).\n\tsize mismatch for model.23.cv3.2.1.1.bn.running_mean: copying a param with shape torch.Size([64]) from checkpoint, the shape in current model is torch.Size([80]).\n\tsize mismatch for model.23.cv3.2.1.1.bn.running_var: copying a param with shape torch.Size([64]) from checkpoint, the shape in current model is torch.Size([80]).\n\tsize mismatch for model.23.cv3.2.2.weight: copying a param with shape torch.Size([8, 64, 1, 1]) from checkpoint, the shape in current model is torch.Size([80, 80, 1, 1]).\n\tsize mismatch for model.23.cv3.2.2.bias: copying a param with shape torch.Size([8]) from checkpoint, the shape in current model is torch.Size([80])."
     ]
    }
   ],
   "source": [
    "model = YOLO('yolo11n.yaml')\n",
    "model.nc = 8 \n",
    "model.model.load_state_dict(torch.load(weights)['model'].state_dict(), strict=False)"
   ]
  },
  {
   "cell_type": "code",
   "execution_count": 26,
   "metadata": {},
   "outputs": [
    {
     "data": {
      "text/plain": [
       "_IncompatibleKeys(missing_keys=['model.0.conv.weight', 'model.0.bn.weight', 'model.0.bn.bias', 'model.0.bn.running_mean', 'model.0.bn.running_var', 'model.1.conv.weight', 'model.1.bn.weight', 'model.1.bn.bias', 'model.1.bn.running_mean', 'model.1.bn.running_var', 'model.2.cv1.conv.weight', 'model.2.cv1.bn.weight', 'model.2.cv1.bn.bias', 'model.2.cv1.bn.running_mean', 'model.2.cv1.bn.running_var', 'model.2.cv2.conv.weight', 'model.2.cv2.bn.weight', 'model.2.cv2.bn.bias', 'model.2.cv2.bn.running_mean', 'model.2.cv2.bn.running_var', 'model.2.m.0.cv1.conv.weight', 'model.2.m.0.cv1.bn.weight', 'model.2.m.0.cv1.bn.bias', 'model.2.m.0.cv1.bn.running_mean', 'model.2.m.0.cv1.bn.running_var', 'model.2.m.0.cv2.conv.weight', 'model.2.m.0.cv2.bn.weight', 'model.2.m.0.cv2.bn.bias', 'model.2.m.0.cv2.bn.running_mean', 'model.2.m.0.cv2.bn.running_var', 'model.3.conv.weight', 'model.3.bn.weight', 'model.3.bn.bias', 'model.3.bn.running_mean', 'model.3.bn.running_var', 'model.4.cv1.conv.weight', 'model.4.cv1.bn.weight', 'model.4.cv1.bn.bias', 'model.4.cv1.bn.running_mean', 'model.4.cv1.bn.running_var', 'model.4.cv2.conv.weight', 'model.4.cv2.bn.weight', 'model.4.cv2.bn.bias', 'model.4.cv2.bn.running_mean', 'model.4.cv2.bn.running_var', 'model.4.m.0.cv1.conv.weight', 'model.4.m.0.cv1.bn.weight', 'model.4.m.0.cv1.bn.bias', 'model.4.m.0.cv1.bn.running_mean', 'model.4.m.0.cv1.bn.running_var', 'model.4.m.0.cv2.conv.weight', 'model.4.m.0.cv2.bn.weight', 'model.4.m.0.cv2.bn.bias', 'model.4.m.0.cv2.bn.running_mean', 'model.4.m.0.cv2.bn.running_var', 'model.5.conv.weight', 'model.5.bn.weight', 'model.5.bn.bias', 'model.5.bn.running_mean', 'model.5.bn.running_var', 'model.6.cv1.conv.weight', 'model.6.cv1.bn.weight', 'model.6.cv1.bn.bias', 'model.6.cv1.bn.running_mean', 'model.6.cv1.bn.running_var', 'model.6.cv2.conv.weight', 'model.6.cv2.bn.weight', 'model.6.cv2.bn.bias', 'model.6.cv2.bn.running_mean', 'model.6.cv2.bn.running_var', 'model.6.m.0.cv1.conv.weight', 'model.6.m.0.cv1.bn.weight', 'model.6.m.0.cv1.bn.bias', 'model.6.m.0.cv1.bn.running_mean', 'model.6.m.0.cv1.bn.running_var', 'model.6.m.0.cv2.conv.weight', 'model.6.m.0.cv2.bn.weight', 'model.6.m.0.cv2.bn.bias', 'model.6.m.0.cv2.bn.running_mean', 'model.6.m.0.cv2.bn.running_var', 'model.6.m.0.cv3.conv.weight', 'model.6.m.0.cv3.bn.weight', 'model.6.m.0.cv3.bn.bias', 'model.6.m.0.cv3.bn.running_mean', 'model.6.m.0.cv3.bn.running_var', 'model.6.m.0.m.0.cv1.conv.weight', 'model.6.m.0.m.0.cv1.bn.weight', 'model.6.m.0.m.0.cv1.bn.bias', 'model.6.m.0.m.0.cv1.bn.running_mean', 'model.6.m.0.m.0.cv1.bn.running_var', 'model.6.m.0.m.0.cv2.conv.weight', 'model.6.m.0.m.0.cv2.bn.weight', 'model.6.m.0.m.0.cv2.bn.bias', 'model.6.m.0.m.0.cv2.bn.running_mean', 'model.6.m.0.m.0.cv2.bn.running_var', 'model.6.m.0.m.1.cv1.conv.weight', 'model.6.m.0.m.1.cv1.bn.weight', 'model.6.m.0.m.1.cv1.bn.bias', 'model.6.m.0.m.1.cv1.bn.running_mean', 'model.6.m.0.m.1.cv1.bn.running_var', 'model.6.m.0.m.1.cv2.conv.weight', 'model.6.m.0.m.1.cv2.bn.weight', 'model.6.m.0.m.1.cv2.bn.bias', 'model.6.m.0.m.1.cv2.bn.running_mean', 'model.6.m.0.m.1.cv2.bn.running_var', 'model.7.conv.weight', 'model.7.bn.weight', 'model.7.bn.bias', 'model.7.bn.running_mean', 'model.7.bn.running_var', 'model.8.cv1.conv.weight', 'model.8.cv1.bn.weight', 'model.8.cv1.bn.bias', 'model.8.cv1.bn.running_mean', 'model.8.cv1.bn.running_var', 'model.8.cv2.conv.weight', 'model.8.cv2.bn.weight', 'model.8.cv2.bn.bias', 'model.8.cv2.bn.running_mean', 'model.8.cv2.bn.running_var', 'model.8.m.0.cv1.conv.weight', 'model.8.m.0.cv1.bn.weight', 'model.8.m.0.cv1.bn.bias', 'model.8.m.0.cv1.bn.running_mean', 'model.8.m.0.cv1.bn.running_var', 'model.8.m.0.cv2.conv.weight', 'model.8.m.0.cv2.bn.weight', 'model.8.m.0.cv2.bn.bias', 'model.8.m.0.cv2.bn.running_mean', 'model.8.m.0.cv2.bn.running_var', 'model.8.m.0.cv3.conv.weight', 'model.8.m.0.cv3.bn.weight', 'model.8.m.0.cv3.bn.bias', 'model.8.m.0.cv3.bn.running_mean', 'model.8.m.0.cv3.bn.running_var', 'model.8.m.0.m.0.cv1.conv.weight', 'model.8.m.0.m.0.cv1.bn.weight', 'model.8.m.0.m.0.cv1.bn.bias', 'model.8.m.0.m.0.cv1.bn.running_mean', 'model.8.m.0.m.0.cv1.bn.running_var', 'model.8.m.0.m.0.cv2.conv.weight', 'model.8.m.0.m.0.cv2.bn.weight', 'model.8.m.0.m.0.cv2.bn.bias', 'model.8.m.0.m.0.cv2.bn.running_mean', 'model.8.m.0.m.0.cv2.bn.running_var', 'model.8.m.0.m.1.cv1.conv.weight', 'model.8.m.0.m.1.cv1.bn.weight', 'model.8.m.0.m.1.cv1.bn.bias', 'model.8.m.0.m.1.cv1.bn.running_mean', 'model.8.m.0.m.1.cv1.bn.running_var', 'model.8.m.0.m.1.cv2.conv.weight', 'model.8.m.0.m.1.cv2.bn.weight', 'model.8.m.0.m.1.cv2.bn.bias', 'model.8.m.0.m.1.cv2.bn.running_mean', 'model.8.m.0.m.1.cv2.bn.running_var', 'model.9.cv1.conv.weight', 'model.9.cv1.bn.weight', 'model.9.cv1.bn.bias', 'model.9.cv1.bn.running_mean', 'model.9.cv1.bn.running_var', 'model.9.cv2.conv.weight', 'model.9.cv2.bn.weight', 'model.9.cv2.bn.bias', 'model.9.cv2.bn.running_mean', 'model.9.cv2.bn.running_var', 'model.10.cv1.conv.weight', 'model.10.cv1.bn.weight', 'model.10.cv1.bn.bias', 'model.10.cv1.bn.running_mean', 'model.10.cv1.bn.running_var', 'model.10.cv2.conv.weight', 'model.10.cv2.bn.weight', 'model.10.cv2.bn.bias', 'model.10.cv2.bn.running_mean', 'model.10.cv2.bn.running_var', 'model.10.m.0.attn.qkv.conv.weight', 'model.10.m.0.attn.qkv.bn.weight', 'model.10.m.0.attn.qkv.bn.bias', 'model.10.m.0.attn.qkv.bn.running_mean', 'model.10.m.0.attn.qkv.bn.running_var', 'model.10.m.0.attn.proj.conv.weight', 'model.10.m.0.attn.proj.bn.weight', 'model.10.m.0.attn.proj.bn.bias', 'model.10.m.0.attn.proj.bn.running_mean', 'model.10.m.0.attn.proj.bn.running_var', 'model.10.m.0.attn.pe.conv.weight', 'model.10.m.0.attn.pe.bn.weight', 'model.10.m.0.attn.pe.bn.bias', 'model.10.m.0.attn.pe.bn.running_mean', 'model.10.m.0.attn.pe.bn.running_var', 'model.10.m.0.ffn.0.conv.weight', 'model.10.m.0.ffn.0.bn.weight', 'model.10.m.0.ffn.0.bn.bias', 'model.10.m.0.ffn.0.bn.running_mean', 'model.10.m.0.ffn.0.bn.running_var', 'model.10.m.0.ffn.1.conv.weight', 'model.10.m.0.ffn.1.bn.weight', 'model.10.m.0.ffn.1.bn.bias', 'model.10.m.0.ffn.1.bn.running_mean', 'model.10.m.0.ffn.1.bn.running_var', 'model.13.cv1.conv.weight', 'model.13.cv1.bn.weight', 'model.13.cv1.bn.bias', 'model.13.cv1.bn.running_mean', 'model.13.cv1.bn.running_var', 'model.13.cv2.conv.weight', 'model.13.cv2.bn.weight', 'model.13.cv2.bn.bias', 'model.13.cv2.bn.running_mean', 'model.13.cv2.bn.running_var', 'model.13.m.0.cv1.conv.weight', 'model.13.m.0.cv1.bn.weight', 'model.13.m.0.cv1.bn.bias', 'model.13.m.0.cv1.bn.running_mean', 'model.13.m.0.cv1.bn.running_var', 'model.13.m.0.cv2.conv.weight', 'model.13.m.0.cv2.bn.weight', 'model.13.m.0.cv2.bn.bias', 'model.13.m.0.cv2.bn.running_mean', 'model.13.m.0.cv2.bn.running_var', 'model.16.cv1.conv.weight', 'model.16.cv1.bn.weight', 'model.16.cv1.bn.bias', 'model.16.cv1.bn.running_mean', 'model.16.cv1.bn.running_var', 'model.16.cv2.conv.weight', 'model.16.cv2.bn.weight', 'model.16.cv2.bn.bias', 'model.16.cv2.bn.running_mean', 'model.16.cv2.bn.running_var', 'model.16.m.0.cv1.conv.weight', 'model.16.m.0.cv1.bn.weight', 'model.16.m.0.cv1.bn.bias', 'model.16.m.0.cv1.bn.running_mean', 'model.16.m.0.cv1.bn.running_var', 'model.16.m.0.cv2.conv.weight', 'model.16.m.0.cv2.bn.weight', 'model.16.m.0.cv2.bn.bias', 'model.16.m.0.cv2.bn.running_mean', 'model.16.m.0.cv2.bn.running_var', 'model.17.conv.weight', 'model.17.bn.weight', 'model.17.bn.bias', 'model.17.bn.running_mean', 'model.17.bn.running_var', 'model.19.cv1.conv.weight', 'model.19.cv1.bn.weight', 'model.19.cv1.bn.bias', 'model.19.cv1.bn.running_mean', 'model.19.cv1.bn.running_var', 'model.19.cv2.conv.weight', 'model.19.cv2.bn.weight', 'model.19.cv2.bn.bias', 'model.19.cv2.bn.running_mean', 'model.19.cv2.bn.running_var', 'model.19.m.0.cv1.conv.weight', 'model.19.m.0.cv1.bn.weight', 'model.19.m.0.cv1.bn.bias', 'model.19.m.0.cv1.bn.running_mean', 'model.19.m.0.cv1.bn.running_var', 'model.19.m.0.cv2.conv.weight', 'model.19.m.0.cv2.bn.weight', 'model.19.m.0.cv2.bn.bias', 'model.19.m.0.cv2.bn.running_mean', 'model.19.m.0.cv2.bn.running_var', 'model.20.conv.weight', 'model.20.bn.weight', 'model.20.bn.bias', 'model.20.bn.running_mean', 'model.20.bn.running_var', 'model.22.cv1.conv.weight', 'model.22.cv1.bn.weight', 'model.22.cv1.bn.bias', 'model.22.cv1.bn.running_mean', 'model.22.cv1.bn.running_var', 'model.22.cv2.conv.weight', 'model.22.cv2.bn.weight', 'model.22.cv2.bn.bias', 'model.22.cv2.bn.running_mean', 'model.22.cv2.bn.running_var', 'model.22.m.0.cv1.conv.weight', 'model.22.m.0.cv1.bn.weight', 'model.22.m.0.cv1.bn.bias', 'model.22.m.0.cv1.bn.running_mean', 'model.22.m.0.cv1.bn.running_var', 'model.22.m.0.cv2.conv.weight', 'model.22.m.0.cv2.bn.weight', 'model.22.m.0.cv2.bn.bias', 'model.22.m.0.cv2.bn.running_mean', 'model.22.m.0.cv2.bn.running_var', 'model.22.m.0.cv3.conv.weight', 'model.22.m.0.cv3.bn.weight', 'model.22.m.0.cv3.bn.bias', 'model.22.m.0.cv3.bn.running_mean', 'model.22.m.0.cv3.bn.running_var', 'model.22.m.0.m.0.cv1.conv.weight', 'model.22.m.0.m.0.cv1.bn.weight', 'model.22.m.0.m.0.cv1.bn.bias', 'model.22.m.0.m.0.cv1.bn.running_mean', 'model.22.m.0.m.0.cv1.bn.running_var', 'model.22.m.0.m.0.cv2.conv.weight', 'model.22.m.0.m.0.cv2.bn.weight', 'model.22.m.0.m.0.cv2.bn.bias', 'model.22.m.0.m.0.cv2.bn.running_mean', 'model.22.m.0.m.0.cv2.bn.running_var', 'model.22.m.0.m.1.cv1.conv.weight', 'model.22.m.0.m.1.cv1.bn.weight', 'model.22.m.0.m.1.cv1.bn.bias', 'model.22.m.0.m.1.cv1.bn.running_mean', 'model.22.m.0.m.1.cv1.bn.running_var', 'model.22.m.0.m.1.cv2.conv.weight', 'model.22.m.0.m.1.cv2.bn.weight', 'model.22.m.0.m.1.cv2.bn.bias', 'model.22.m.0.m.1.cv2.bn.running_mean', 'model.22.m.0.m.1.cv2.bn.running_var', 'model.23.cv2.0.0.conv.weight', 'model.23.cv2.0.0.bn.weight', 'model.23.cv2.0.0.bn.bias', 'model.23.cv2.0.0.bn.running_mean', 'model.23.cv2.0.0.bn.running_var', 'model.23.cv2.0.1.conv.weight', 'model.23.cv2.0.1.bn.weight', 'model.23.cv2.0.1.bn.bias', 'model.23.cv2.0.1.bn.running_mean', 'model.23.cv2.0.1.bn.running_var', 'model.23.cv2.0.2.weight', 'model.23.cv2.0.2.bias', 'model.23.cv2.1.0.conv.weight', 'model.23.cv2.1.0.bn.weight', 'model.23.cv2.1.0.bn.bias', 'model.23.cv2.1.0.bn.running_mean', 'model.23.cv2.1.0.bn.running_var', 'model.23.cv2.1.1.conv.weight', 'model.23.cv2.1.1.bn.weight', 'model.23.cv2.1.1.bn.bias', 'model.23.cv2.1.1.bn.running_mean', 'model.23.cv2.1.1.bn.running_var', 'model.23.cv2.1.2.weight', 'model.23.cv2.1.2.bias', 'model.23.cv2.2.0.conv.weight', 'model.23.cv2.2.0.bn.weight', 'model.23.cv2.2.0.bn.bias', 'model.23.cv2.2.0.bn.running_mean', 'model.23.cv2.2.0.bn.running_var', 'model.23.cv2.2.1.conv.weight', 'model.23.cv2.2.1.bn.weight', 'model.23.cv2.2.1.bn.bias', 'model.23.cv2.2.1.bn.running_mean', 'model.23.cv2.2.1.bn.running_var', 'model.23.cv2.2.2.weight', 'model.23.cv2.2.2.bias', 'model.23.cv3.0.0.0.conv.weight', 'model.23.cv3.0.0.0.bn.weight', 'model.23.cv3.0.0.0.bn.bias', 'model.23.cv3.0.0.0.bn.running_mean', 'model.23.cv3.0.0.0.bn.running_var', 'model.23.cv3.0.0.1.conv.weight', 'model.23.cv3.0.0.1.bn.weight', 'model.23.cv3.0.0.1.bn.bias', 'model.23.cv3.0.0.1.bn.running_mean', 'model.23.cv3.0.0.1.bn.running_var', 'model.23.cv3.0.1.0.conv.weight', 'model.23.cv3.0.1.0.bn.weight', 'model.23.cv3.0.1.0.bn.bias', 'model.23.cv3.0.1.0.bn.running_mean', 'model.23.cv3.0.1.0.bn.running_var', 'model.23.cv3.0.1.1.conv.weight', 'model.23.cv3.0.1.1.bn.weight', 'model.23.cv3.0.1.1.bn.bias', 'model.23.cv3.0.1.1.bn.running_mean', 'model.23.cv3.0.1.1.bn.running_var', 'model.23.cv3.0.2.weight', 'model.23.cv3.0.2.bias', 'model.23.cv3.1.0.0.conv.weight', 'model.23.cv3.1.0.0.bn.weight', 'model.23.cv3.1.0.0.bn.bias', 'model.23.cv3.1.0.0.bn.running_mean', 'model.23.cv3.1.0.0.bn.running_var', 'model.23.cv3.1.0.1.conv.weight', 'model.23.cv3.1.0.1.bn.weight', 'model.23.cv3.1.0.1.bn.bias', 'model.23.cv3.1.0.1.bn.running_mean', 'model.23.cv3.1.0.1.bn.running_var', 'model.23.cv3.1.1.0.conv.weight', 'model.23.cv3.1.1.0.bn.weight', 'model.23.cv3.1.1.0.bn.bias', 'model.23.cv3.1.1.0.bn.running_mean', 'model.23.cv3.1.1.0.bn.running_var', 'model.23.cv3.1.1.1.conv.weight', 'model.23.cv3.1.1.1.bn.weight', 'model.23.cv3.1.1.1.bn.bias', 'model.23.cv3.1.1.1.bn.running_mean', 'model.23.cv3.1.1.1.bn.running_var', 'model.23.cv3.1.2.weight', 'model.23.cv3.1.2.bias', 'model.23.cv3.2.0.0.conv.weight', 'model.23.cv3.2.0.0.bn.weight', 'model.23.cv3.2.0.0.bn.bias', 'model.23.cv3.2.0.0.bn.running_mean', 'model.23.cv3.2.0.0.bn.running_var', 'model.23.cv3.2.0.1.conv.weight', 'model.23.cv3.2.0.1.bn.weight', 'model.23.cv3.2.0.1.bn.bias', 'model.23.cv3.2.0.1.bn.running_mean', 'model.23.cv3.2.0.1.bn.running_var', 'model.23.cv3.2.1.0.conv.weight', 'model.23.cv3.2.1.0.bn.weight', 'model.23.cv3.2.1.0.bn.bias', 'model.23.cv3.2.1.0.bn.running_mean', 'model.23.cv3.2.1.0.bn.running_var', 'model.23.cv3.2.1.1.conv.weight', 'model.23.cv3.2.1.1.bn.weight', 'model.23.cv3.2.1.1.bn.bias', 'model.23.cv3.2.1.1.bn.running_mean', 'model.23.cv3.2.1.1.bn.running_var', 'model.23.cv3.2.2.weight', 'model.23.cv3.2.2.bias', 'model.23.dfl.conv.weight'], unexpected_keys=[])"
      ]
     },
     "execution_count": 26,
     "metadata": {},
     "output_type": "execute_result"
    }
   ],
   "source": [
    "# Get the current state dict of your model\n",
    "model_state_dict = model.model.state_dict()\n",
    "\n",
    "# Create a new state dict with only the matching keys\n",
    "new_state_dict = {k: v for k, v in state_dict.items() if k in model_state_dict and v.shape == model_state_dict[k].shape}\n",
    "\n",
    "# Load the new state dict\n",
    "model.model.load_state_dict(new_state_dict, strict=False)"
   ]
  },
  {
   "cell_type": "code",
   "execution_count": null,
   "metadata": {},
   "outputs": [],
   "source": []
  }
 ],
 "metadata": {
  "kernelspec": {
   "display_name": "fedlytics",
   "language": "python",
   "name": "python3"
  },
  "language_info": {
   "codemirror_mode": {
    "name": "ipython",
    "version": 3
   },
   "file_extension": ".py",
   "mimetype": "text/x-python",
   "name": "python",
   "nbconvert_exporter": "python",
   "pygments_lexer": "ipython3",
   "version": "3.12.2"
  }
 },
 "nbformat": 4,
 "nbformat_minor": 2
}
